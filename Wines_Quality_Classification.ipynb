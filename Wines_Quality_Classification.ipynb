{
  "nbformat": 4,
  "nbformat_minor": 0,
  "metadata": {
    "colab": {
      "name": "Wines_Quality_Classification.ipynb",
      "provenance": [],
      "authorship_tag": "ABX9TyOCGb+qyMJ/k4DIYUm/UyH7",
      "include_colab_link": true
    },
    "kernelspec": {
      "name": "python3",
      "display_name": "Python 3"
    },
    "language_info": {
      "name": "python"
    }
  },
  "cells": [
    {
      "cell_type": "markdown",
      "metadata": {
        "id": "view-in-github",
        "colab_type": "text"
      },
      "source": [
        "<a href=\"https://colab.research.google.com/github/alilazim/ai-ml/blob/main/Wines_Quality_Classification.ipynb\" target=\"_parent\"><img src=\"https://colab.research.google.com/assets/colab-badge.svg\" alt=\"Open In Colab\"/></a>"
      ]
    },
    {
      "cell_type": "code",
      "metadata": {
        "id": "PRHv-vAXGgpT"
      },
      "source": [
        "# Wines_Quality_Classification (Multiple Classifier)\n",
        "# --------------------------------------------------\n",
        "\n",
        "# Import pandas \n",
        "import pandas as pd\n",
        "import numpy as np\n",
        "from keras.models import model_from_json\n",
        "\n",
        "# Read in white wine data \n",
        "white = pd.read_csv(\"http://archive.ics.uci.edu/ml/machine-learning-databases/wine-quality/winequality-white.csv\", sep=';')\n",
        "\n",
        "# Read in red wine data \n",
        "red = pd.read_csv(\"http://archive.ics.uci.edu/ml/machine-learning-databases/wine-quality/winequality-red.csv\", sep=';')\n",
        "\n",
        "# Add `type` column to `red` with value 1\n",
        "red['type'] = 1\n",
        "\n",
        "# Add `type` column to `white` with value 0\n",
        "white['type'] = 0\n",
        "\n",
        "# Append `white` to `red`\n",
        "wines = red.append(white, ignore_index=True)\n",
        "\n",
        "#------------------------------------------------------\n",
        "\n",
        "# Isolate target labels\n",
        "Y = wines.quality\n",
        "\n",
        "# Isolate data\n",
        "X = wines.drop('quality', axis=1) \n",
        "\n",
        "# Scale the data with `StandardScaler`\n",
        "X = StandardScaler().fit_transform(X)\n",
        "\n",
        "from keras.models import Sequential\n",
        "\n",
        "# Import `Dense` from `keras.layers`\n",
        "from keras.layers import Dense\n",
        "\n",
        "# Initialize the model\n",
        "model = Sequential()\n",
        "\n",
        "# Add input layer \n",
        "model.add(Dense(64, input_dim=12, activation='relu'))\n",
        "    \n",
        "# Add output layer \n",
        "model.add(Dense(1))\n",
        "\n",
        "import numpy as np\n",
        "from sklearn.model_selection import StratifiedKFold\n",
        "\n",
        "seed = 7\n",
        "np.random.seed(seed)\n",
        "\n",
        "kfold = StratifiedKFold(n_splits=5, shuffle=True, random_state=seed)\n",
        "for train, test in kfold.split(X, Y):\n",
        "    model = Sequential()\n",
        "    model.add(Dense(64, input_dim=12, activation='relu'))\n",
        "    model.add(Dense(64, activation='relu'))\n",
        "    model.add(Dense(1))\n",
        "    model.compile(optimizer='rmsprop', loss='mse', metrics=['mae'])\n",
        "    model.fit(X[train], Y[train], epochs=10, verbose=1)\n",
        "\n",
        "\n",
        "y_pred = model.predict(X[test])\n",
        "print(y_pred)\n",
        "\n",
        "mse_value, mae_value = model.evaluate(X[test], Y[test], verbose=0)\n",
        "\n",
        "print(mse_value)\n",
        "print(mae_value)\n",
        "\n",
        "from sklearn.metrics import r2_score\n",
        "\n",
        "r2_score(Y[test], y_pred)"
      ],
      "execution_count": null,
      "outputs": []
    }
  ]
}